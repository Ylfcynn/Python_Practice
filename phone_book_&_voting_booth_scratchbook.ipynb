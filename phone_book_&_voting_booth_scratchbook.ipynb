{
 "cells": [
  {
   "cell_type": "code",
   "execution_count": null,
   "metadata": {},
   "outputs": [],
   "source": [
    "import chalk\n",
    "\n",
    "\n",
    "contacts = list()\n",
    "\n",
    "def create_proc(forname, surname, phone, email):\n",
    "    contacts.append({'name': (surname, forename),\n",
    "                     'telephone': phone,\n",
    "                     'e-mail': email})\n",
    "\n",
    "\n",
    "def return_proc(return_hest):\n",
    "    contacts.get('entities', 'Alas, contact not found. Try again?')\n",
    "\n",
    "    \n",
    "def hest_proc(command):\n",
    "    \"\"\"\n",
    "    Processes the brooker's hest.\n",
    "    \"\"\"\n",
    "\n",
    "    if len(hest) > 1:\n",
    "        print('Not a command. Please input a single letter command.')\n",
    "        \n",
    "    elif hest not in 'crudl':\n",
    "        print('Not a command. Acceptable commands are: \\'c\\', \\'r\\', \\'u\\', \\'d\\', \\'l\\'.')\n",
    "    \n",
    "    elif hest == 'c':\n",
    "        forename = input('Enter forename: ')\n",
    "        surname = input('Enter surname: ')\n",
    "        phone = input('Enter telephone number: ')\n",
    "        email = input('Enter e-mail address: ')\n",
    "        create_proc(forename, surname, phone, email)    \n",
    "        \n",
    "    elif hest == 'r':\n",
    "        return_hest = input('Enter name of contact: ')\n",
    "        return_proc(return_hest)\n",
    "        \n",
    "    elif hest == 'u':\n",
    "        update_hest = input('Enter name of contact to update: ')\n",
    "        update_proc(update_hest)\n",
    "        \n",
    "    elif hest == 'd':\n",
    "        delete_hest = input('Enter name of contact to delete: ')\n",
    "        delete_proc(delete_hest)\n",
    "        \n",
    "    elif hest == 'l':\n",
    "        list_proc(list_hest)\n",
    "        \n",
    "\n",
    "\n",
    "\n",
    "def gather():\n",
    "    \"\"\"\n",
    "    Gathers the brooker's hest.\n",
    "    \"\"\"\n",
    "\n",
    "    # underline solution goes here\n",
    "\n",
    "    hest = input(' Hello D-Force. What is your bidding?\\n'\n",
    "             '(\\'C\\'reate contact, \\'R\\'etrieve contact, \\'U\\'pdate contact, \\'D\\'elete contact, \\'L\\'ist contacts)\\n'\n",
    "             'C.R.U.D.L.' ).lower()\n",
    "\n",
    "    hest_proc(hest)\n",
    "\n",
    "gather()"
   ]
  },
  {
   "cell_type": "code",
   "execution_count": 12,
   "metadata": {},
   "outputs": [
    {
     "name": "stdout",
     "output_type": "stream",
     "text": [
      "\u001b[1;32mHello world!\u001b[0m\n"
     ]
    }
   ],
   "source": [
    "import chalk\n",
    "\n",
    "chalk.green(\"Hello world!\", opts=('underscore'))"
   ]
  },
  {
   "cell_type": "code",
   "execution_count": 20,
   "metadata": {},
   "outputs": [
    {
     "data": {
      "text/plain": [
       "{'entities': {'names': ['John', 'Smith']}}"
      ]
     },
     "execution_count": 20,
     "metadata": {},
     "output_type": "execute_result"
    }
   ],
   "source": [
    "contacts = dict(entities=dict(names=list(['John', 'Smith'])))    \n",
    "contacts"
   ]
  },
  {
   "cell_type": "code",
   "execution_count": null,
   "metadata": {
    "collapsed": true
   },
   "outputs": [],
   "source": [
    "contacts = [{'name': (surname, forename),\n",
    "             'telephone': phone,\n",
    "             'e-mail': email}]"
   ]
  },
  {
   "cell_type": "code",
   "execution_count": null,
   "metadata": {
    "collapsed": true
   },
   "outputs": [],
   "source": []
  },
  {
   "cell_type": "code",
   "execution_count": 2,
   "metadata": {},
   "outputs": [
    {
     "name": "stdout",
     "output_type": "stream",
     "text": [
      "Greetings citizen! Welcome to the Chernobog Industries PeoplePower 6000™.\n",
      "Chernobog Industries prides itself on providing powerful and secure solutions for free elections.\n",
      "With our FreedomEngine™ technology, rest assured that your vote will be confidential and be\n",
      "counted accurately.\n",
      "\n",
      "Chernobog Industries - \"Putting the 'Mob' into mob rule.\"\n",
      "\n",
      "0 ==========>>>> Russ Boulware\n",
      "1 ==========>>>> JC\n",
      "2 ==========>>>> Doby Finn\n",
      "3 ==========>>>> Ross Grabow\n",
      "4 ==========>>>> Aaron Nelson\n",
      "5 ==========>>>> Shane Sweet\n",
      "6 ==========>>>> Tyler Van Loon\n",
      "Enter your name: Bob\n",
      "Welcome Bob. Insert the number of your selection here: 0\n"
     ]
    },
    {
     "ename": "KeyError",
     "evalue": "1",
     "output_type": "error",
     "traceback": [
      "\u001b[0;31m---------------------------------------------------------------------------\u001b[0m",
      "\u001b[0;31mKeyError\u001b[0m                                  Traceback (most recent call last)",
      "\u001b[0;32m<ipython-input-2-08caa8d01326>\u001b[0m in \u001b[0;36m<module>\u001b[0;34m()\u001b[0m\n\u001b[1;32m     90\u001b[0m \u001b[0;34m\u001b[0m\u001b[0m\n\u001b[1;32m     91\u001b[0m \u001b[0;34m\u001b[0m\u001b[0m\n\u001b[0;32m---> 92\u001b[0;31m \u001b[0mobseq_droid\u001b[0m\u001b[0;34m(\u001b[0m\u001b[0mcandidates\u001b[0m\u001b[0;34m)\u001b[0m\u001b[0;34m\u001b[0m\u001b[0m\n\u001b[0m",
      "\u001b[0;32m<ipython-input-2-08caa8d01326>\u001b[0m in \u001b[0;36mobseq_droid\u001b[0;34m(candidates)\u001b[0m\n\u001b[1;32m     82\u001b[0m     \u001b[0;32mif\u001b[0m \u001b[0mvote\u001b[0m \u001b[0;32min\u001b[0m \u001b[0mrange\u001b[0m\u001b[0;34m(\u001b[0m\u001b[0mlen\u001b[0m\u001b[0;34m(\u001b[0m\u001b[0mthugs\u001b[0m\u001b[0;34m)\u001b[0m\u001b[0;34m)\u001b[0m\u001b[0;34m:\u001b[0m\u001b[0;34m\u001b[0m\u001b[0m\n\u001b[1;32m     83\u001b[0m         \u001b[0mballot\u001b[0m \u001b[0;34m=\u001b[0m \u001b[0;34m{\u001b[0m\u001b[0muser\u001b[0m\u001b[0;34m:\u001b[0m \u001b[0mvote\u001b[0m\u001b[0;34m}\u001b[0m\u001b[0;34m\u001b[0m\u001b[0m\n\u001b[0;32m---> 84\u001b[0;31m         \u001b[0mprint\u001b[0m\u001b[0;34m(\u001b[0m\u001b[0;34mf'Your vote, {ballot[1]}, has been recorded.\\n'\u001b[0m\u001b[0;34m)\u001b[0m\u001b[0;34m\u001b[0m\u001b[0m\n\u001b[0m\u001b[1;32m     85\u001b[0m         \u001b[0mballot_proc\u001b[0m\u001b[0;34m(\u001b[0m\u001b[0mballot\u001b[0m\u001b[0;34m)\u001b[0m\u001b[0;34m\u001b[0m\u001b[0m\n\u001b[1;32m     86\u001b[0m \u001b[0;34m\u001b[0m\u001b[0m\n",
      "\u001b[0;31mKeyError\u001b[0m: 1"
     ]
    }
   ],
   "source": [
    "candidates = ['Russ Boulware', 'JC', 'Doby Finn', 'Ross Grabow', 'Aaron Nelson', 'Shane Sweet', 'Tyler Van Loon']\n",
    "\n",
    "ballot_box = dict()\n",
    "\n",
    "\n",
    "def rigger(results):\n",
    "    \"\"\"\n",
    "    Rigs the results, declares a victor. Ha!\n",
    "    \"\"\"    \n",
    "    victor = max(results.items(), key=lambda x: x[1])\n",
    "    #victor = 'Doby Finn'\n",
    "    hark = f'{victor} is the winner!\\n\\\"Look on my work, ye sheeple, and despair! Ha ha ha ha ha ha ha ha ha!\\\"'\n",
    "    print(hark)\n",
    "    \n",
    "\n",
    "def ballot_proc(ballot):\n",
    "    \"\"\"\n",
    "    Appends ballots to a dictionary, tallies votes, and rigs the result.\n",
    "    \"\"\"\n",
    "\n",
    "    ballot_box.update(ballot)\n",
    "    tally_ho = list(ballot_box.values())  \n",
    "    results = dict()\n",
    "    \"\"\"\n",
    "    Vote tally logic here\n",
    "    \"\"\"\n",
    "    if 0 in tally_ho:\n",
    "            results['Russ Boulware'] = tally_ho.count(0)\n",
    "            \n",
    "    if 1 in tally_ho:\n",
    "            results['JC'] = tally_ho.count(1)\n",
    "\n",
    "    if 2 in tally_ho:\n",
    "            results['Doby Finn'] = tally_ho.count(2)\n",
    "\n",
    "    if 3 in tally_ho:\n",
    "            results['Ross Grabow'] = tally_ho.count(3)\n",
    "\n",
    "    if 4 in tally_ho:\n",
    "            results['Aaron Nelson'] = tally_ho.count(4)\n",
    "            \n",
    "    if 5 in tally_ho:\n",
    "            results['Shane Sweet'] = tally_ho.count(5)\n",
    "            \n",
    "    if 6 in tally_ho:\n",
    "            results['Tyler Van Loon'] = tally_ho.count(6)\n",
    "            \n",
    "    bool_herder(results)\n",
    "            \n",
    "\n",
    "def bool_herder(results):\n",
    "    \n",
    "    more_voters = input('Are there any more voters? (y/n) ')\n",
    "    if more_voters == 'y':\n",
    "        obseq_droid(candidates)\n",
    "\n",
    "    elif more_voters == 'n':\n",
    "        print('Thank you for using the Chernobog Industries PeoplePower 6000™.\\n''Have a nice day.')\n",
    "        rigger(results)\n",
    "\n",
    "    else:\n",
    "        print('Not a valid selection. Please enter \\'y\\' or \\'n\\'')\n",
    "        bool_herder(results)\n",
    "\n",
    "        \n",
    "def obseq_droid(candidates):\n",
    "    print('Greetings citizen! Welcome to the Chernobog Industries PeoplePower 6000™.\\n'\n",
    "          'Chernobog Industries prides itself on providing powerful and secure solutions for free elections.\\n'\n",
    "          'With our FreedomEngine™ technology, rest assured that your vote will be confidential and be\\n'\n",
    "          'counted accurately.\\n'\n",
    "          '\\n'\n",
    "          'Chernobog Industries - \\\"Putting the \\'Mob\\' into mob rule.\\\"\\n')\n",
    "\n",
    "    thugs = list(enumerate(candidates))\n",
    "\n",
    "    for num, name in thugs:\n",
    "        print(num, name, sep=' ==========>>>> ')\n",
    "\n",
    "    user = input('Enter your name: ')\n",
    "    vote = int(input(f'Welcome {user}. Insert the number of your selection here: '))\n",
    "\n",
    "    if vote in range(len(thugs)):\n",
    "        ballot = {user: vote}\n",
    "        print(f'Your vote, {ballot}, has been recorded.\\n')\n",
    "        ballot_proc(ballot)\n",
    "    \n",
    "    else:\n",
    "        print('Not a valid selection. Please enter a number within the permitted range.')\n",
    "        bool_herder()\n",
    "\n",
    "\n",
    "obseq_droid(candidates)"
   ]
  },
  {
   "cell_type": "code",
   "execution_count": 14,
   "metadata": {},
   "outputs": [
    {
     "name": "stdout",
     "output_type": "stream",
     "text": [
      "{0: 'Lindor', 1: 'Necco wafers', 2: 'Sweet Tarts', 3: 'Snickers', 4: 'Toblerone'}\n"
     ]
    }
   ],
   "source": [
    "#dict comprehension\n",
    "candies = ['Lindor', 'Necco wafers', 'Sweet Tarts', 'Snickers', 'Toblerone']\n",
    "options = {index: name for index, name in enumerate(candies)} #Generates a menu\n",
    "print(options)"
   ]
  },
  {
   "cell_type": "code",
   "execution_count": 5,
   "metadata": {},
   "outputs": [
    {
     "name": "stdout",
     "output_type": "stream",
     "text": [
      "[7, 2, 3, 4]\n",
      "('Doby', 7)\n"
     ]
    }
   ],
   "source": [
    "my_dict = {'Doby': 7, 'Aaron': 2, 'Tyler': 3, 'Russ': 4}\n",
    "triumvirate = list(my_dict.values())\n",
    "print(triumvirate)\n",
    "primus = max(my_dict.items(), key=lambda x: x[1])\n",
    "print(primus)\n"
   ]
  },
  {
   "cell_type": "code",
   "execution_count": 1,
   "metadata": {},
   "outputs": [
    {
     "name": "stdout",
     "output_type": "stream",
     "text": [
      "Path to codex to analyze: /Users/ylf/Git/Python_Practice/ari/Dune.txt\n",
      "Lexis: 'the', occurrences: 14539\n",
      "Lexis: 'of', occurrences: 5363\n",
      "Lexis: 'a', occurrences: 4817\n",
      "Lexis: 'to', occurrences: 4254\n",
      "Lexis: 'and', occurrences: 3755\n",
      "Lexis: 'he', occurrences: 2900\n",
      "Lexis: 'in', occurrences: 2669\n",
      "Lexis: 'his', occurrences: 2461\n",
      "Lexis: 'said', occurrences: 2266\n",
      "Lexis: 'you', occurrences: 2131\n"
     ]
    }
   ],
   "source": [
    "\"\"\"\n",
    "Doby's work. Please don't laugh. I'm new at this.\n",
    "\"\"\"\n",
    "\n",
    "import re\n",
    "\n",
    "\n",
    "def display(tallies: dict) -> None:\n",
    "    \"\"\"\n",
    "    Prints the dictionary 'tallies' and prints them out, sorted by values.\n",
    "    \"\"\"\n",
    "    for key, value in sorted(tallies.items(), key=lambda t: t[1], reverse=True)[:10]:\n",
    "        print(f'Lexis: \\'{key}\\',', f'occurrences: {value}')\n",
    "\n",
    "\n",
    "def lexeis_gen(phrase: str) -> str:\n",
    "    \"\"\"\n",
    "    Scrubs punctuation, converts to lowercase\n",
    "\n",
    "    >>> lexeis_gen('Test: An ungulatory proposition; The llamma, (John), asked, \"Let us eat spam and Eggs!\".')\n",
    "    'Test  An ungulatory proposition  The llamma   John   asked   Let us eat spam and Eggs'   \n",
    "    \"\"\"\n",
    "    \n",
    "    pattern = re.compile(r'[\\d!:;,\\.\\\"()-]')\n",
    "    no_punc = pattern.sub(' ', phrase)\n",
    "    wee_no_punc = no_punc.lower()\n",
    "    return wee_no_punc\n",
    "\n",
    "\n",
    "def quantify(生: str) -> None:\n",
    "    \"\"\"\n",
    "    Analyzes textual input for lexical frequencies and displays the most frequent occurrences in the terminal. \n",
    "    :param 生: \n",
    "    :return: \n",
    "    \"\"\"\n",
    "\n",
    "    cooked = lexeis_gen(生)\n",
    "    lexeis = cooked.split()\n",
    "    tallies = dict()\n",
    "    for word in lexeis:\n",
    "        try:\n",
    "            tallies[word] += 1\n",
    "\n",
    "        except KeyError:\n",
    "            tallies[word] = 1\n",
    "            \n",
    "    display(tallies)\n",
    "\n",
    "\n",
    "def loader() -> None:              # 'file handler'\n",
    "    \"\"\"\n",
    "    A 'boilerplate' construction, returns file contents as a string.\n",
    "    \"\"\"\n",
    "    path = input('Path to codex to analyze: ')    # Ex. '/Users/ylf/Git/Python_Practice/Bēowulf.txt'\n",
    "    with open(path, 'r') as file:\n",
    "        codex = file.read()\n",
    "        quantify(codex)\n",
    "\n",
    "loader()"
   ]
  },
  {
   "cell_type": "code",
   "execution_count": null,
   "metadata": {
    "collapsed": true
   },
   "outputs": [],
   "source": []
  }
 ],
 "metadata": {
  "kernelspec": {
   "display_name": "Python 3",
   "language": "python",
   "name": "python3"
  },
  "language_info": {
   "codemirror_mode": {
    "name": "ipython",
    "version": 3
   },
   "file_extension": ".py",
   "mimetype": "text/x-python",
   "name": "python",
   "nbconvert_exporter": "python",
   "pygments_lexer": "ipython3",
   "version": "3.6.0"
  }
 },
 "nbformat": 4,
 "nbformat_minor": 2
}
