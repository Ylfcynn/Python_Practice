{
 "cells": [
  {
   "cell_type": "code",
   "execution_count": 1,
   "metadata": {},
   "outputs": [
    {
     "data": {
      "text/plain": [
       "'base_dir/my_dir/another'"
      ]
     },
     "execution_count": 1,
     "metadata": {},
     "output_type": "execute_result"
    }
   ],
   "source": [
    "import os\n",
    "\n",
    "\n",
    "os.listdir()    # ls\n",
    "os.getcwd()     # pwd\n",
    "os.chdir('../') # cd\n",
    "os.path.join('base_dir', 'my_dir', 'another')\n"
   ]
  },
  {
   "cell_type": "code",
   "execution_count": null,
   "metadata": {
    "collapsed": true
   },
   "outputs": [],
   "source": []
  },
  {
   "cell_type": "code",
   "execution_count": null,
   "metadata": {
    "collapsed": true
   },
   "outputs": [],
   "source": [
    "BASE_DIR = (/Users/ylf/Git/Python_Practice/rain')\n",
    "\n",
    "def file_handler(filesystem_path str:) -> str:\n",
    "    with open(filesystem_path, 'r') as f:        # This is a context manager.\n",
    "        raw_text = f.read()                      # returns entire file contents as a single string\n",
    "        return raw_text\n",
    "        \n",
    "        "
   ]
  },
  {
   "cell_type": "code",
   "execution_count": null,
   "metadata": {
    "collapsed": true
   },
   "outputs": [],
   "source": [
    "fullpath = BASE_DIR + 'something.txt'\n",
    "data = file_handler(fullpath)\n"
   ]
  },
  {
   "cell_type": "code",
   "execution_count": 2,
   "metadata": {},
   "outputs": [
    {
     "data": {
      "text/plain": [
       "[]"
      ]
     },
     "execution_count": 2,
     "metadata": {},
     "output_type": "execute_result"
    }
   ],
   "source": [
    "RAIN_DIR = '/Users/ylf/Git/Python_Practice/rain'\n",
    "os.listdir(RAIN_DIR)"
   ]
  },
  {
   "cell_type": "code",
   "execution_count": null,
   "metadata": {
    "collapsed": true
   },
   "outputs": [],
   "source": [
    "raw_rain_data = file_handler(os.path.join(RAIN_DIR, 'sample.rain'))\n"
   ]
  },
  {
   "cell_type": "code",
   "execution_count": null,
   "metadata": {
    "collapsed": true
   },
   "outputs": [],
   "source": []
  },
  {
   "cell_type": "code",
   "execution_count": null,
   "metadata": {
    "collapsed": true
   },
   "outputs": [],
   "source": [
    "def __repr__(self):\n",
    "    something = f'{0.__class__.__name__}({0.name)}, {0.mass}, {0.location}, {0.charge})'\n",
    "    print(something)"
   ]
  },
  {
   "cell_type": "code",
   "execution_count": 6,
   "metadata": {},
   "outputs": [],
   "source": [
    "class Star:\n",
    "    def __inti__(self, name, mass, color):\n",
    "        \"\"\"Instance method - Constructor\"\"\"\n",
    "        self.name = name\n",
    "        self.mass = mass\n",
    "        self.color = color\n",
    "    \n",
    "    def is_atronomical(self):\n",
    "        \"\"\"Instance Method\"\"\"\n",
    "        return False\n",
    "    \n",
    "    @classmethod    # '@' is a decorator token, modifies the decorated function. Class methods take their class as their argument\n",
    "    def from_csv_string(cls, csv_string):\n",
    "        \"\"\"Rigel, 8, white\"\"\"\n",
    "        name, mass, color = csv_string.split(',')\n",
    "        star = cls(name, mass, color)\n",
    "        return star\n",
    "    \n",
    "    @staticmethod\n",
    "    def show_taco():\n",
    "        print('🌮')\n"
   ]
  },
  {
   "cell_type": "code",
   "execution_count": null,
   "metadata": {
    "collapsed": true
   },
   "outputs": [],
   "source": []
  }
 ],
 "metadata": {
  "kernelspec": {
   "display_name": "Python 3",
   "language": "python",
   "name": "python3"
  },
  "language_info": {
   "codemirror_mode": {
    "name": "ipython",
    "version": 3
   },
   "file_extension": ".py",
   "mimetype": "text/x-python",
   "name": "python",
   "nbconvert_exporter": "python",
   "pygments_lexer": "ipython3",
   "version": "3.6.0"
  }
 },
 "nbformat": 4,
 "nbformat_minor": 2
}
