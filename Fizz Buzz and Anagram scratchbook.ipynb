{
 "cells": [
  {
   "cell_type": "code",
   "execution_count": 19,
   "metadata": {
    "collapsed": false
   },
   "outputs": [
    {
     "name": "stdout",
     "output_type": "stream",
     "text": [
      "Enter encrypted text: Ohg, bssvpre, V qvqa'g pngpu gurfr -- gurl ner zl crg svfu naq V whfg\\  oevat gurz urer gb fjvz. Jura gurl'er qbar gurl whzc onpx vagb gur ohpxrg.\n",
      "B[Z, UfficeX, I didT'Z caZch ZheYe -- Zhe_ aXe m_ VeZ fiYh aTd I j[YZ\\  bXiTg Zhem heXe ZU Y]im. WheT Zhe_'Xe dUTe Zhe_ j[mV back iTZU Zhe b[ckeZ.\n"
     ]
    }
   ],
   "source": [
    "import string\n",
    "\n",
    "\n",
    "def decrypter(garbled):\n",
    "    degarbled = []\n",
    "    for char in garbled:\n",
    "        if char in string.ascii_letters:\n",
    "            true_char = ord(char) + 13\n",
    "            if true_char > 90:\n",
    "                true_char = ord(char) - 13\n",
    "                degarbled.append(chr(true_char))\n",
    "            else:\n",
    "                degarbled.append(chr(true_char))\n",
    "        else:\n",
    "            degarbled.append(char)\n",
    "    eureka = ''.join(degarbled)\n",
    "\n",
    "    print(eureka)\n",
    "\n",
    "\n",
    "def gather():\n",
    "    garbled = list(input('Enter encrypted text: '))\n",
    "    decrypter(garbled)\n",
    "\n",
    "\n",
    "gather()"
   ]
  },
  {
   "cell_type": "code",
   "execution_count": 15,
   "metadata": {
    "collapsed": false
   },
   "outputs": [
    {
     "name": "stdout",
     "output_type": "stream",
     "text": [
      "abcdefghijklmnopqrstuvwxyzABCDEFGHIJKLMNOPQRSTUVWXYZ\n"
     ]
    },
    {
     "data": {
      "text/plain": [
       "90"
      ]
     },
     "execution_count": 15,
     "metadata": {},
     "output_type": "execute_result"
    }
   ],
   "source": [
    "import string\n",
    "\n",
    "print(string.ascii_letters)\n",
    "ord('Z')"
   ]
  },
  {
   "cell_type": "code",
   "execution_count": 73,
   "metadata": {
    "collapsed": false
   },
   "outputs": [
    {
     "name": "stdout",
     "output_type": "stream",
     "text": [
      "['1', '2', 'Fizz', '4', 'Buzz', 'Fizz', '7', '8', 'Fizz', 'Buzz', '11', 'Fizz', '13', '14', 'FizzBuzz']\n",
      "1 2 Fizz 4 Buzz Fizz 7 8 Fizz Buzz 11 Fizz 13 14 FizzBuzz\n"
     ]
    }
   ],
   "source": [
    "\"\"\"\n",
    "\n",
    "##### Instructions\n",
    "\n",
    "Here are the rules for the FizzBuzz problem:\n",
    "\n",
    "Given the length of the output of numbers from 1 - n:\n",
    "If a number is divisible by 3, append \"Fizz\" to a list.\n",
    "If a number is divisible by 5, append \"Buzz\" to that same list.\n",
    "If a number is divisible by both 3 and 5, append \"FizzBuzz\" to the list.\n",
    "If a number meets none of these rules, just append the string of the number.\n",
    "\n",
    "Append each value to a list starting with 1, and ending at `n` and return the resulting list.\n",
    "\n",
    ">>> fizz_buzz(15)\n",
    "['1', '2', 'Fizz', '4', 'Buzz', 'Fizz', '7', '8', 'Fizz', 'Buzz', 11', 'Fizz', 13, 14, 'FizzBuzz']\n",
    "\n",
    "REMEMBER: Use Encapsulation! D.R.Y.\n",
    ">>> joined_buzz(15)\n",
    "'1 2 Fizz 4 Buzz Fizz 7 8 Fizz Buzz 11 Fizz 13 14 FizzBuzz'\n",
    "\n",
    "\"\"\"\n",
    "\n",
    "n = 15\n",
    "\n",
    "fizzy_list = list()\n",
    "\n",
    "def fizz_buzz(n):\n",
    "    for i in range(1, n+1):\n",
    "        \n",
    "        if i != 15 and i % 3 == 0:\n",
    "            fizzy_list.append('Fizz')\n",
    "            \n",
    "        elif i != 15 and i % 5 == 0:\n",
    "            fizzy_list.append('Buzz')\n",
    "            \n",
    "        elif i % 3 == 0 and i % 5 == 0:\n",
    "            fizzy_list.append('FizzBuzz')\n",
    "            \n",
    "        else:\n",
    "            fizzy_list.append(str(i))\n",
    "\n",
    "    print(fizzy_list)\n",
    "\n",
    "\n",
    "def joined_buzz(n):\n",
    "    fizzy_string = ' '.join(fizzy_list)\n",
    "    print(fizzy_string)\n",
    "\n",
    "fizz_buzz(n)\n",
    "joined_buzz(n)"
   ]
  },
  {
   "cell_type": "code",
   "execution_count": 6,
   "metadata": {
    "collapsed": false
   },
   "outputs": [
    {
     "name": "stdout",
     "output_type": "stream",
     "text": [
      "[3, 1, 1, 1, 1]\n",
      "comp [3, 1, 3, 1, 1, 3, 1]\n",
      "None\n",
      "[1, 1, 1, 1]\n",
      "comp [1, 1, 1, 1]\n"
     ]
    },
    {
     "data": {
      "text/plain": [
       "True"
      ]
     },
     "execution_count": 6,
     "metadata": {},
     "output_type": "execute_result"
    }
   ],
   "source": [
    "\"\"\"\n",
    ">>> is_anagram('anagram', 'nag a ram')\n",
    "True\n",
    "\n",
    ">>> is_anagram('Right. One... two... five!', 'Three, sir.')\n",
    "False\n",
    "\n",
    ">>> is_anagram('My ideal time', 'Immediately')\n",
    "True\n",
    "\n",
    "\"\"\"\n",
    "\n",
    "import string\n",
    "\n",
    "\n",
    "word_1 = 'anagram'\n",
    "\n",
    "word_2 = 'Gark!'\n",
    "    \n",
    "\n",
    "def digisig_gen(nekked_little):\n",
    "    digisig = list()                                       # Originally digisig = list()\n",
    "\n",
    "    alphabet = string.ascii_lowercase\n",
    "\n",
    "    for letter in alphabet:\n",
    "        if letter in nekked_little:\n",
    "            digisig.append(nekked_little.count(letter))\n",
    "    print(digisig)\n",
    "    \n",
    "    counts = [nekked_little.count(letter) for letter in nekked_little]\n",
    "    print('comp', counts)\n",
    "    \n",
    "    return digisig\n",
    "\n",
    "\n",
    "def strip_and_squash(word):\n",
    "    nekked_little = list()\n",
    "\n",
    "    squashed = word.casefold()\n",
    "\n",
    "    for char in squashed:\n",
    "        if char in string.ascii_lowercase:\n",
    "            nekked_little.append(char)\n",
    "\n",
    "            \n",
    "    \n",
    "    digisig_gen(nekked_little)\n",
    "\n",
    "def is_anagram(word_1, word_2):\n",
    "    digisig_1 = strip_and_squash(word_1)\n",
    "    print(digisig_1)\n",
    "    digisig_2 = strip_and_squash(word_2)\n",
    "\n",
    "    if digisig_1 == digisig_2:\n",
    "        return True\n",
    "\n",
    "    else:\n",
    "        return False\n",
    "\n",
    "\n",
    "is_anagram(word_1, word_2)    "
   ]
  },
  {
   "cell_type": "code",
   "execution_count": 5,
   "metadata": {
    "collapsed": false
   },
   "outputs": [
    {
     "name": "stdout",
     "output_type": "stream",
     "text": [
      "{'a': 5, 'b': 1, 'm': 1, 'n': 2}\n"
     ]
    }
   ],
   "source": [
    "digisig = dict()\n",
    "nekked_little = 'Iamabanana'\n",
    "alphabet = string.ascii_lowercase\n",
    "\n",
    "for letter in alphabet:\n",
    "    if letter in nekked_little:\n",
    "        digisig[letter] = nekked_little.count(letter)\n",
    "print(digisig)"
   ]
  },
  {
   "cell_type": "code",
   "execution_count": 4,
   "metadata": {
    "collapsed": true
   },
   "outputs": [],
   "source": [
    "\n",
    "\n",
    "mydict = {}      # Empty, Good.\n",
    "mydict = dict()  # Better\n",
    "\n"
   ]
  },
  {
   "cell_type": "code",
   "execution_count": 5,
   "metadata": {
    "collapsed": true
   },
   "outputs": [],
   "source": [
    "mydict['name'] = 42  # Writing"
   ]
  },
  {
   "cell_type": "code",
   "execution_count": 6,
   "metadata": {
    "collapsed": false
   },
   "outputs": [
    {
     "data": {
      "text/plain": [
       "{'name': 42}"
      ]
     },
     "execution_count": 6,
     "metadata": {},
     "output_type": "execute_result"
    }
   ],
   "source": [
    "mydict"
   ]
  },
  {
   "cell_type": "code",
   "execution_count": 7,
   "metadata": {
    "collapsed": true
   },
   "outputs": [],
   "source": [
    "mydict['name'] = 4  # Ov erriding"
   ]
  },
  {
   "cell_type": "code",
   "execution_count": 8,
   "metadata": {
    "collapsed": false
   },
   "outputs": [
    {
     "data": {
      "text/plain": [
       "{'name': 4}"
      ]
     },
     "execution_count": 8,
     "metadata": {},
     "output_type": "execute_result"
    }
   ],
   "source": [
    "mydict"
   ]
  },
  {
   "cell_type": "code",
   "execution_count": 9,
   "metadata": {
    "collapsed": false
   },
   "outputs": [
    {
     "data": {
      "text/plain": [
       "4"
      ]
     },
     "execution_count": 9,
     "metadata": {},
     "output_type": "execute_result"
    }
   ],
   "source": [
    "mydict['name']      # Reading"
   ]
  },
  {
   "cell_type": "code",
   "execution_count": 2,
   "metadata": {
    "collapsed": false
   },
   "outputs": [
    {
     "name": "stdout",
     "output_type": "stream",
     "text": [
      "[6, 14]\n",
      "[3]\n"
     ]
    }
   ],
   "source": [
    "data = [1, 2, 3, 4, 5, 6, 7, 6, 5, 4, 5, 6, 7, 8, 9, 8, 7, 6, 7, 8, 9]\n",
    "\n",
    "\n",
    "def peaks(data):\n",
    "    \n",
    "    maxima = list()\n",
    "\n",
    "    counter = 0\n",
    "    \n",
    "    for datum in data:\n",
    "        if datum == data[0]:\n",
    "            counter += 1\n",
    "\n",
    "        elif datum == data[len(data)-1]:\n",
    "            break\n",
    "            \n",
    "        elif data[counter] - data[counter - 1] > 0 and data[counter] - data[counter + 1] > 0:\n",
    "            maxima.append(data.index(data[counter]))\n",
    "        counter += 1\n",
    "    \n",
    "    print(maxima)\n",
    "\n",
    "peaks(data)\n",
    "\n",
    "\n",
    "def valleys(data):\n",
    "\n",
    "    minima = list()\n",
    "\n",
    "    counter = 0\n",
    "    \n",
    "    for datum in data:\n",
    "        if datum == data[0]:\n",
    "            counter += 1\n",
    "\n",
    "        elif datum == data[len(data)-1]:\n",
    "            break\n",
    "            \n",
    "        elif data[counter] - data[counter - 1] < 0 and data[counter] - data[counter + 1] < 0:\n",
    "            minima.append(data.index(data[counter]))\n",
    "        counter += 1\n",
    "    \n",
    "    print(minima)\n",
    "\n",
    "valleys(data)"
   ]
  },
  {
   "cell_type": "code",
   "execution_count": null,
   "metadata": {
    "collapsed": true
   },
   "outputs": [],
   "source": []
  }
 ],
 "metadata": {
  "kernelspec": {
   "display_name": "Python 3",
   "language": "python",
   "name": "python3"
  },
  "language_info": {
   "codemirror_mode": {
    "name": "ipython",
    "version": 3
   },
   "file_extension": ".py",
   "mimetype": "text/x-python",
   "name": "python",
   "nbconvert_exporter": "python",
   "pygments_lexer": "ipython3",
   "version": "3.6.0"
  }
 },
 "nbformat": 4,
 "nbformat_minor": 0
}
