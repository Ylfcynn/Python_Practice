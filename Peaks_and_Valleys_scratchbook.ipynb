{
 "cells": [
  {
   "cell_type": "code",
   "execution_count": 33,
   "metadata": {
    "collapsed": false
   },
   "outputs": [
    {
     "name": "stdout",
     "output_type": "stream",
     "text": [
      "[(0, 1), (1, 2), (2, 3), (3, 4), (4, 5), (5, 6), (6, 7), (7, 6), (8, 5), (9, 4), (10, 5), (11, 6), (12, 7), (13, 8), (14, 9), (15, 8), (16, 7), (17, 6), (18, 7), (19, 8), (20, 9)]\n"
     ]
    }
   ],
   "source": [
    "data = [1, 2, 3, 4, 5, 6, 7, 6, 5, 4, 5, 6, 7, 8, 9, 8, 7, 6, 7, 8, 9]\n",
    "\n",
    "\n",
    "def peaks(data):\n",
    "    \n",
    "    spew = list()\n",
    "\n",
    "    for index, datum in enumerate(data):\n",
    "        print(index, datum) # index + 1\n",
    "\n",
    "peaks(data)"
   ]
  },
  {
   "cell_type": "code",
   "execution_count": 26,
   "metadata": {
    "collapsed": false
   },
   "outputs": [
    {
     "ename": "TypeError",
     "evalue": "combinator() missing 3 required positional arguments: 'b', 'c', and 'd'",
     "output_type": "error",
     "traceback": [
      "\u001b[0;31m---------------------------------------------------------------------------\u001b[0m",
      "\u001b[0;31mTypeError\u001b[0m                                 Traceback (most recent call last)",
      "\u001b[0;32m<ipython-input-26-8c9b39452ab1>\u001b[0m in \u001b[0;36m<module>\u001b[0;34m()\u001b[0m\n\u001b[1;32m      4\u001b[0m \u001b[0mdata\u001b[0m \u001b[0;34m=\u001b[0m \u001b[0;34m[\u001b[0m\u001b[0;36m5\u001b[0m\u001b[0;34m,\u001b[0m \u001b[0;36m5\u001b[0m\u001b[0;34m,\u001b[0m \u001b[0;36m5\u001b[0m\u001b[0;34m,\u001b[0m \u001b[0;36m5\u001b[0m\u001b[0;34m]\u001b[0m\u001b[0;34m\u001b[0m\u001b[0m\n\u001b[1;32m      5\u001b[0m \u001b[0;34m\u001b[0m\u001b[0m\n\u001b[0;32m----> 6\u001b[0;31m \u001b[0mcombinator\u001b[0m\u001b[0;34m(\u001b[0m\u001b[0mdata\u001b[0m\u001b[0;34m)\u001b[0m\u001b[0;34m\u001b[0m\u001b[0m\n\u001b[0m",
      "\u001b[0;31mTypeError\u001b[0m: combinator() missing 3 required positional arguments: 'b', 'c', and 'd'"
     ]
    }
   ],
   "source": [
    "def combinator(a, b, c, d):\n",
    "    sum(a + b + c + d)\n",
    "\n",
    "data = [5, 5, 5, 5]\n",
    "\n",
    "combinator(data)"
   ]
  },
  {
   "cell_type": "code",
   "execution_count": null,
   "metadata": {
    "collapsed": true
   },
   "outputs": [],
   "source": [
    "\n",
    "data = [1, 2, 3, 4, 5, 6, 7, 6, 5, 4, 5, 6, 7, 8, 9, 8, 7, 6, 7, 8, 9]\n",
    "\n",
    "\n",
    "def peaks(data):\n",
    "    \n",
    "    couplets = list(enumerate(data))\n",
    "\n",
    "    result = list()\n",
    "    \n",
    "    for index, datum in couplets:     \n",
    "        \n",
    "        if index == 0 or index == (len(couplets)-1):\n",
    "            break\n",
    "            \n",
    "        elif datum > datum @ index - 1 and datum > datum @ index + 1:   # horrific pseudocode\n",
    "            result.append(datum)\n",
    "            \n",
    "\"\"\"\n",
    "\n",
    "print(couplets)\n",
    "\n",
    "peaks(data)"
   ]
  },
  {
   "cell_type": "code",
   "execution_count": 1,
   "metadata": {
    "collapsed": false
   },
   "outputs": [
    {
     "ename": "SyntaxError",
     "evalue": "invalid syntax (<ipython-input-1-620709f0a4a4>, line 12)",
     "output_type": "error",
     "traceback": [
      "\u001b[0;36m  File \u001b[0;32m\"<ipython-input-1-620709f0a4a4>\"\u001b[0;36m, line \u001b[0;32m12\u001b[0m\n\u001b[0;31m    if datum == data.index.(data[len(data)]):\u001b[0m\n\u001b[0m                           ^\u001b[0m\n\u001b[0;31mSyntaxError\u001b[0m\u001b[0;31m:\u001b[0m invalid syntax\n"
     ]
    }
   ],
   "source": [
    "data = [1, 2, 3, 4, 5, 6, 7, 6, 5, 4, 5, 6, 7, 8, 9, 8, 7, 6, 7, 8, 9]\n",
    "\n",
    "\n",
    "def valleys(data):\n",
    "\n",
    "    minima = list()\n",
    "\n",
    "    counter = 1\n",
    "    \n",
    "    for datum in data:\n",
    "\n",
    "        if datum == data.index.(data[len(data)]):\n",
    "            break\n",
    "            \n",
    "        else:\n",
    "            data[counter] - data[counter - 1] < 0 and data[counter] - data[counter + 1] < 0\n",
    "            minima.append(data.index(data[counter]))\n",
    "        counter += 1\n",
    "    \n",
    "    return minima\n",
    "\n",
    "\n",
    "valleys(data)"
   ]
  },
  {
   "cell_type": "markdown",
   "metadata": {
    "collapsed": false
   },
   "source": [
    "### Homework for the weekend\n",
    "#### - Finish peaks_and_valleys.py functions except for chop\n",
    "#### - Start shrink.py and higher_order "
   ]
  },
  {
   "cell_type": "code",
   "execution_count": null,
   "metadata": {
    "collapsed": true
   },
   "outputs": [],
   "source": []
  }
 ],
 "metadata": {
  "kernelspec": {
   "display_name": "Python 3",
   "language": "python",
   "name": "python3"
  },
  "language_info": {
   "codemirror_mode": {
    "name": "ipython",
    "version": 3
   },
   "file_extension": ".py",
   "mimetype": "text/x-python",
   "name": "python",
   "nbconvert_exporter": "python",
   "pygments_lexer": "ipython3",
   "version": "3.6.0"
  }
 },
 "nbformat": 4,
 "nbformat_minor": 2
}
