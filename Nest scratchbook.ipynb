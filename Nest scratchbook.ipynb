{
 "cells": [
  {
   "cell_type": "code",
   "execution_count": 10,
   "metadata": {
    "collapsed": false
   },
   "outputs": [
    {
     "name": "stdout",
     "output_type": "stream",
     "text": [
      "['a', 'b', 'c', 'd', 'e', 'f', 'g', 'h', 'i']\n"
     ]
    }
   ],
   "source": [
    "letters = [['a', 'b', 'c'], ['d', 'e', 'f', 'g'], ['h', 'i']]\n",
    "\n",
    "\"\"\"\n",
    "denest()\n",
    "['a', 'b', 'c', 'd', 'e', 'f', 'g', 'h', 'i']\n",
    "\"\"\"\n",
    "\n",
    "\n",
    "\n",
    "def denest():\n",
    "    spew = [letter for letter in letters for letter in letter]\n",
    "    print(spew)\n",
    "\n",
    "denest()\n"
   ]
  },
  {
   "cell_type": "code",
   "execution_count": 13,
   "metadata": {
    "collapsed": false
   },
   "outputs": [
    {
     "name": "stdout",
     "output_type": "stream",
     "text": [
      "[90, 74, 192, 46, 110, 4, 176, 90, 690, 2, 152, 90, 68, 174]\n"
     ]
    }
   ],
   "source": [
    "\"\"\"\n",
    "\n",
    ">>> apply_to_all(llamas, 2)\n",
    "[90, 74, 192, 46, 110, 4, 176, 90, 690, 2, 152, 90, 68, 174]\n",
    "\n",
    "\"\"\"\n",
    "\n",
    "llamas = [45, 37, 96, 23, 55, 2, 0, 88, 0, 45, 0, 345, 1, 76, 45, 34, 87]\n",
    "\n",
    " \n",
    "def apply_to_all(critter, n):\n",
    "    spew = [n * 2 for n in critter if n != 0]\n",
    "\n",
    "    print(spew)\n",
    "    \n",
    "apply_to_all(llamas, 2)\n"
   ]
  },
  {
   "cell_type": "code",
   "execution_count": 37,
   "metadata": {
    "collapsed": false
   },
   "outputs": [
    {
     "name": "stdout",
     "output_type": "stream",
     "text": [
      "[[['a', 'b', 'c'], ['d', 'e', 'f', 'g'], ['h', 'i']], [['a', 'b', 'c'], ['d', 'e', 'f', 'g'], ['h', 'i']], [['a', 'b', 'c'], ['d', 'e', 'f', 'g'], ['h', 'i']], [['a', 'b', 'c'], ['d', 'e', 'f', 'g'], ['h', 'i']], [['a', 'b', 'c'], ['d', 'e', 'f', 'g'], ['h', 'i']]]\n"
     ]
    }
   ],
   "source": [
    "\"\"\"\n",
    "Doby's solution.\n",
    "\n",
    ">>> locate('l', 'hello')\n",
    "[2, 3]\n",
    "\n",
    ">>> locate('b', 'bannanas')\n",
    "[0]\n",
    "\n",
    ">>> locate('i', 'mississippi')\n",
    "[1, 4, 7, 10]\n",
    "\"\"\"\n",
    "\n",
    "letter = 'l'\n",
    "\n",
    "lexis = 'lexis'\n",
    "\n",
    "def locate(letter, lexis):\n",
    "    spew = [letters for letter in lexis]\n",
    "    \n",
    "    print(spew)\n",
    "    \n",
    "locate(letter, lexis)\n",
    "    "
   ]
  },
  {
   "cell_type": "code",
   "execution_count": null,
   "metadata": {
    "collapsed": true
   },
   "outputs": [],
   "source": []
  }
 ],
 "metadata": {
  "kernelspec": {
   "display_name": "Python 3",
   "language": "python",
   "name": "python3"
  },
  "language_info": {
   "codemirror_mode": {
    "name": "ipython",
    "version": 3
   },
   "file_extension": ".py",
   "mimetype": "text/x-python",
   "name": "python",
   "nbconvert_exporter": "python",
   "pygments_lexer": "ipython3",
   "version": "3.6.0"
  }
 },
 "nbformat": 4,
 "nbformat_minor": 2
}
