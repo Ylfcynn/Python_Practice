{
 "cells": [
  {
   "cell_type": "code",
   "execution_count": 1,
   "metadata": {},
   "outputs": [
    {
     "data": {
      "text/html": [
       "\n",
       "<div>Hello world!</div>"
      ],
      "text/plain": [
       "<IPython.core.display.HTML object>"
      ]
     },
     "metadata": {},
     "output_type": "display_data"
    }
   ],
   "source": [
    "%%html    # Cell magic for HTML.\n",
    "\n",
    "<div>Hello world!</div>"
   ]
  },
  {
   "cell_type": "code",
   "execution_count": 4,
   "metadata": {},
   "outputs": [
    {
     "name": "stdout",
     "output_type": "stream",
     "text": [
      "68 ns ± 1.23 ns per loop (mean ± std. dev. of 7 runs, 10000000 loops each)\n"
     ]
    }
   ],
   "source": [
    "%%timeit\n",
    "\n",
    "def blah():\n",
    "    print('Time this.')\n"
   ]
  },
  {
   "cell_type": "code",
   "execution_count": 13,
   "metadata": {},
   "outputs": [
    {
     "data": {
      "text/html": [
       "\n",
       "<style>\n",
       "* {\n",
       "    border:0-px dashed red;\n",
       "}"
      ],
      "text/plain": [
       "<IPython.core.display.HTML object>"
      ]
     },
     "metadata": {},
     "output_type": "display_data"
    }
   ],
   "source": [
    "%%html\n",
    "\n",
    "<style>\n",
    "* {\n",
    "    border:0px dashed red;\n",
    "}\n",
    "\n",
    "</style>"
   ]
  },
  {
   "cell_type": "markdown",
   "metadata": {
    "collapsed": true
   },
   "source": [
    "## CSS Transitions, Transforms, & Animations, or, How to Quit JavaScript and Use CSS\n",
    "Keyframe properties, Keyframe values\n",
    "\n",
    "### Two basic building blocks:\n",
    "\n",
    "    * Keyframes - Keyframes are the 'foundation' of CSS animations. They define what the animation looks like at each                   stage of the animation timeline.\n",
    "    \n",
    "    * Animation Properties - They assign the @keyframes to CSS elements you want to animate and define how they are                                animated.\n",
    "\n",
    "\n",
    "\n",
    "### Keyframes\n",
    "\n",
    "    Each @keyframes is composed of:\n",
    "    \n",
    "        * Name of the animation (should be descriptive)\n",
    "        \n",
    "        * Stages of the animation: Represented as a percentage with 0% as the beginning state of the animation and               100% as the ending state of the animation. Multiple intermediate states can be added.\n",
    "        \n",
    "        * CSS Properties: The CSS properties defined for each stage of the animation\n",
    "        \n",
    "    \n",
    "### Animation Properties    \n",
    "\n",
    "    Animation properties assign @keyframes to the CSS elements you want to animate and define _how_ you want it           animated.\n",
    "\n",
    "\n",
    "    animation-name: The name of the animation, defined in the @keyframes.\n",
    "    animation-duration: The duration of the animation, in seconds (e.g., 5s) or milliseconds (e.g., 200ms).\n",
    "\n",
    "\n",
    "\n",
    "    Each animation property can be defined individually, but for faster code, you can use animation shorthand. All the     animation properties are added to the same `animation:` in the following order:\n",
    "       ```\n",
    "        animation: [animation-name] [animation-duration] [animation-timing-function]\n",
    "       [animation-delay] [animation-iteration-count] [animation-direction]\n",
    "       [animation-fill-mode] [animation-play-state];\n",
    "       ```\n",
    "\n",
    "\n",
    "### Syntax Example\n",
    "\n",
    "    ```\n",
    "    @keyframes fadeIn {           /* Keyframe\n",
    "      0% {                        /* Stage 1\n",
    "        transform: scale(0.1);\n",
    "        opacity: 0;\n",
    "      }\n",
    "      60% {                       /* Stage 2\n",
    "        transform: scale(1.2);\n",
    "        opacity: 1;\n",
    "      }\n",
    "      100% {                      /* Stage 3\n",
    "        transform: scale(1);\n",
    "      }\n",
    "    }\n",
    "    \n",
    "    section {\n",
    "      animation-duration: 2s;     /* \n",
    "      animation-name: fadeIn;     /* \n",
    "    }\n",
    "    ```\n",
    "    \n",
    "    \n",
    "\n",
    "\n",
    "### Examples\n",
    "\n",
    "    * http://codepen.io/Tsankashvili/pen/WjJXEZ\n",
    "    \n",
    "    * http://codepen.io/nicokoenig/pen/dNgOwj\n",
    "    \n",
    "    "
   ]
  },
  {
   "cell_type": "code",
   "execution_count": null,
   "metadata": {
    "collapsed": true
   },
   "outputs": [],
   "source": []
  }
 ],
 "metadata": {
  "kernelspec": {
   "display_name": "Python 3",
   "language": "python",
   "name": "python3"
  },
  "language_info": {
   "codemirror_mode": {
    "name": "ipython",
    "version": 3
   },
   "file_extension": ".py",
   "mimetype": "text/x-python",
   "name": "python",
   "nbconvert_exporter": "python",
   "pygments_lexer": "ipython3",
   "version": "3.6.0"
  }
 },
 "nbformat": 4,
 "nbformat_minor": 2
}
