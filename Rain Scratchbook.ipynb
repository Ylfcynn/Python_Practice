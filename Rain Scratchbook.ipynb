{
 "cells": [
  {
   "cell_type": "code",
   "execution_count": 12,
   "metadata": {},
   "outputs": [
    {
     "ename": "SyntaxError",
     "evalue": "invalid syntax (<ipython-input-12-b11b22df62f1>, line 26)",
     "output_type": "error",
     "traceback": [
      "\u001b[0;36m  File \u001b[0;32m\"<ipython-input-12-b11b22df62f1>\"\u001b[0;36m, line \u001b[0;32m26\u001b[0m\n\u001b[0;31m    rainiest_year =\u001b[0m\n\u001b[0m                   ^\u001b[0m\n\u001b[0;31mSyntaxError\u001b[0m\u001b[0;31m:\u001b[0m invalid syntax\n"
     ]
    }
   ],
   "source": [
    "\"\"\"\n",
    "This is Doby's attempt to make a genuinely useful tool for extracting and manipulating data from a webpage.\n",
    "\n",
    "This program must accomplish the following operations:\n",
    "\n",
    "- Slice out the header lines from all the lines you read. \n",
    "- Split a string by whitespace into a list of strings using .split(). \n",
    "- Extract the date string from the date columns.\n",
    "- If there are any days with missing data ('-'), explicitly drop them from your dataset. \n",
    "- Avoid using un-named \"pairs\" outside of dictionaries. \n",
    "- Use tuples to group together individual instances of a date and a rainfall amount. (Or namedtuple form collections.) \n",
    "- Print out a summary of the data: date with the most rain, year with the most rain.\n",
    "\"\"\"\n",
    "\n",
    "\n",
    "import os\n",
    "import re\n",
    "\n",
    "\n",
    "BASE_DIR = '/Users/ylf/Git/Python_Practice/rain'\n",
    "\n",
    "\n",
    "def reckon_year(diced_data: str) -> str:\n",
    "    \n",
    "    annual_totals = {annual_rain[0]: (int(annual_rain[1])) for daily_rain in sliced_data if daily_rain[1] != '-'}\n",
    "    rainiest_year = \n",
    "\n",
    "\n",
    "def reckon_day(diced_data: dict) -> str:\n",
    "    \"\"\"                                            \n",
    "    This will extract and return meaningful data from diced_data.\n",
    "    :return:                                     \n",
    "    \"\"\"\n",
    "    rainiest = max(diced_data.items(), key=lambda t: t[1][0])  # Returns value of the first element of the tuple\n",
    "    rainiest_day = rainiest[0]\n",
    "    rainiest_total = rainiest[1][0]\n",
    "    print(f'Rainiest day: {rainiest_day}', f'Total precipitation: {rainiest_total}', sep='\\n')\n",
    "\n",
    "\n",
    "def slice_n_dice(raw_text: str) -> dict:\n",
    "    \"\"\"                                            \n",
    "    This converts raw text into a searchable 3-d data structure (dictionary).\n",
    "    :return: dict                                    \n",
    "    \"\"\"\n",
    "    tranches = raw_text.splitlines()\n",
    "    decapitated = tranches[11::]\n",
    "    sliced_data = (tranche.split() for tranche in decapitated)\n",
    "    diced_data = {daily_rain[0]: (int(daily_rain[1]), daily_rain[2:]) for daily_rain in sliced_data if daily_rain[1] != '-'}   # Suggested by Kieran\n",
    "    reckon_day(diced_data)\n",
    "\n",
    "\n",
    "def file_handler(filesystem_path: str) -> str:\n",
    "    \"\"\"\n",
    "    This loads a user-selected file and outputs a string\n",
    "    :param filesystem_path: User selectable path to a file\n",
    "    :return: \n",
    "    \"\"\"\n",
    "    with open(filesystem_path, 'r') as file:                     # This is a context manager.\n",
    "        raw_text = file.read()                                   # returns entire file contents as a single string\n",
    "        return raw_text\n",
    "\n",
    "\n",
    "def run():\n",
    "    filesystem_path = os.path.join(BASE_DIR, 'sample.rain')\n",
    "    raw_text = file_handler(filesystem_path)\n",
    "    slice_n_dice(raw_text)\n",
    "\n",
    "\n",
    "run()\n",
    "\n",
    "\n",
    "# def menu():\n",
    "#     \"\"\"\n",
    "#\n",
    "#     :return:\n",
    "#     \"\"\"\n",
    "#     print('Blah blah blah...')\n",
    "#\n",
    "#     menu_opts = {str(num): path for num, path in enumerate(file_paths, start=1)}      # Menu display generator\n",
    "#     menu_length = len(menu_opts)\n",
    "#     menu_opts.update({str(menu_length+1):'Load file', str(menu_length+2): 'Quit'})    # Adds options to load file and quit\n",
    "#     user_opt = os.listdir(BASE_DIR)\n",
    "#     fullpath = BASE_DIR + user_opts[selection]\n",
    "#     data = file_handler(user_opts_[path)\n",
    "#     raw_rain_data = file_handler(os.path.join(BASE_DIR, 'sample.rain'))\n",
    "#\n",
    "#     for key, value in menu_opts.items():                                          # Prints menu\n",
    "#         print(key, '⟹ ', value)\n",
    "#     selection = input('>>>>> ')"
   ]
  },
  {
   "cell_type": "code",
   "execution_count": null,
   "metadata": {
    "collapsed": true
   },
   "outputs": [],
   "source": [
    "max() # returns latest key appearing in ASCII table\n",
    "max(diced_data.items(), key=lambda t: t[1][0]) # return value of the first element of the tuple"
   ]
  },
  {
   "cell_type": "code",
   "execution_count": null,
   "metadata": {
    "collapsed": true
   },
   "outputs": [],
   "source": []
  },
  {
   "cell_type": "code",
   "execution_count": null,
   "metadata": {
    "collapsed": true
   },
   "outputs": [],
   "source": []
  },
  {
   "cell_type": "code",
   "execution_count": null,
   "metadata": {
    "collapsed": true
   },
   "outputs": [],
   "source": []
  },
  {
   "cell_type": "code",
   "execution_count": 4,
   "metadata": {},
   "outputs": [
    {
     "data": {
      "text/plain": [
       "'<html>\\n    <head>\\n\\t<meta http-equiv=\"Content-type\" content=\"text/html;charset=UTF-8\">\\n\\t<meta name=\"viewport\" content=\"width=device-width, initial-scale=1\">\\n\\t\\n\\t<META HTTP-EQUIV=\"Refresh\" CONTENT=\"4; URL=purple.html\">\\n\\t\\n\\t<link rel=\"stylesheet\" type=\"text/css\" href=\"http://www.purple.com/index.css\">\\n\\t\\n\\t\\n\\t<title>purple.com</title>\\n\\t<script type=\"text/javascript\">\\n\\t \\n\\t var _gaq = _gaq || [];\\n\\t _gaq.push([\\'_setAccount\\', \\'UA-27318022-1\\']);\\n\\t _gaq.push([\\'_setDomainName\\', \\'purple.com\\']);\\n\\t _gaq.push([\\'_trackPageview\\']);\\n\\t \\n\\t (function() {\\n\\t     var ga = document.createElement(\\'script\\'); ga.type = \\'text/javascript\\'; ga.async = true;\\n\\t     ga.src = (\\'https:\\' == document.location.protocol ? \\'https://ssl\\' : \\'http://www\\') + \\'.google-analytics.com/ga.js\\';\\n\\t     var s = document.getElementsByTagName(\\'script\\')[0]; s.parentNode.insertBefore(ga, s);\\n\\t })();\\n\\t \\n\\t</script>\\n\\t\\n\\t<style>\\n\\t    body { background-color: #7D26CD; }\\na{ color:#AAAA00; text-decoration: none; padding: 4px; }\\na:link { color:#AAAA00; }\\na:visited { color:#999900; }\\na:hover { color:#660000; background: #9D46DD; }\\na:active { color:#666600; }\\n\\t</style>\\n\\t\\n    </head>\\n    <body>\\n\\t<p style=\"text-align:center;\"><a href=\"old-ads/leesa.html\"><img src=\"imageads/Leesa_5000_728x90.jpg\"></a></p>\\n<ul>\\n  <li> <a href=\"faq.html\">FAQ</a></li>\\n</ul>\\n    </body>\\n</html>'"
      ]
     },
     "execution_count": 4,
     "metadata": {},
     "output_type": "execute_result"
    }
   ],
   "source": [
    "import requests\n",
    "response = requests.get('http://www.purple.com')\n",
    "response.text"
   ]
  },
  {
   "cell_type": "code",
   "execution_count": 14,
   "metadata": {},
   "outputs": [
    {
     "ename": "ModuleNotFoundError",
     "evalue": "No module named 'account'",
     "output_type": "error",
     "traceback": [
      "\u001b[0;31m---------------------------------------------------------------------------\u001b[0m",
      "\u001b[0;31mModuleNotFoundError\u001b[0m                       Traceback (most recent call last)",
      "\u001b[0;32m<ipython-input-14-5bc3cb306e9f>\u001b[0m in \u001b[0;36m<module>\u001b[0;34m()\u001b[0m\n\u001b[0;32m----> 1\u001b[0;31m \u001b[0;32mfrom\u001b[0m \u001b[0maccount\u001b[0m\u001b[0;34m.\u001b[0m\u001b[0mpy\u001b[0m \u001b[0;32mimport\u001b[0m \u001b[0maccount\u001b[0m\u001b[0;34m\u001b[0m\u001b[0m\n\u001b[0m\u001b[1;32m      2\u001b[0m \u001b[0;32mimport\u001b[0m \u001b[0mpychalk\u001b[0m\u001b[0;34m\u001b[0m\u001b[0m\n\u001b[1;32m      3\u001b[0m \u001b[0;34m\u001b[0m\u001b[0m\n\u001b[1;32m      4\u001b[0m \u001b[0;34m\u001b[0m\u001b[0m\n\u001b[1;32m      5\u001b[0m welcome_prompt = '''\n",
      "\u001b[0;31mModuleNotFoundError\u001b[0m: No module named 'account'"
     ]
    }
   ],
   "source": [
    "from account.py import account\n",
    "import pychalk\n",
    "\n",
    "\n",
    "welcome_prompt = '''\n",
    "                  Welcome to the BankBuddy 2600®.\n",
    "                  Chernobog Industries, Inc. - Providing powerful and secure solutions for the financial industry since 2017.\n",
    "                  BankBuddy 2600® - \"Keeping it safe. Keeping it secret.™\"\n",
    "                  Please select an option from the menu.)\n",
    "                  '''\n",
    "\n",
    "print(welcome_prompt)\n",
    "\n",
    "user_accounts = dict()\n",
    "\n",
    "\n",
    "def ops_menu():\n",
    "    pass\n",
    "\n",
    "\n",
    "def welcome_menu():\n",
    "    \"\"\"\n",
    "    A login and new account menu.\n",
    "    :return: \n",
    "    \"\"\"\n",
    "    welcome_menu = {'1': 'Access your account', '2': 'Open a new account'}\n",
    "    welcome_opt = input('>>> ')\n",
    "    if welcome_opt == '1':\n",
    "        ident = input('Please enter your account name: ')\n",
    "        if ident in user_accounts:\n",
    "            ops_menu()\n",
    "        else:\n",
    "            print('Account not found.')\n",
    "            welcome_menu()\n",
    "\n",
    "\n",
    "    elif welcome_opt == '2':\n",
    "        new_ident = input('Please enter a unique identifier for your account name: ')\n",
    "        user_accounts.update({new_ident: 0})\n",
    "        print(f'The account {new_ident} has been created.')\n",
    "        ops_menu()\n",
    "\n",
    "\n",
    "    else:                                                            # A while loop can also be used for error handling\n",
    "        print('Invalid. Please enter an option from the menu below. ')\n",
    "        return menu()                                                # Take care to return this if the call is terminal.\n",
    "\n",
    "\n",
    "welcome_menu()"
   ]
  },
  {
   "cell_type": "code",
   "execution_count": null,
   "metadata": {
    "collapsed": true
   },
   "outputs": [],
   "source": []
  }
 ],
 "metadata": {
  "kernelspec": {
   "display_name": "Python 3",
   "language": "python",
   "name": "python3"
  },
  "language_info": {
   "codemirror_mode": {
    "name": "ipython",
    "version": 3
   },
   "file_extension": ".py",
   "mimetype": "text/x-python",
   "name": "python",
   "nbconvert_exporter": "python",
   "pygments_lexer": "ipython3",
   "version": "3.6.0"
  }
 },
 "nbformat": 4,
 "nbformat_minor": 2
}
