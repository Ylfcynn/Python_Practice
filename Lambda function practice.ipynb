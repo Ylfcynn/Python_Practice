{
 "cells": [
  {
   "cell_type": "code",
   "execution_count": null,
   "metadata": {
    "collapsed": true
   },
   "outputs": [],
   "source": [
    "[42, '1066', 'forty two', 'idiom', 'shrubbery', []]"
   ]
  },
  {
   "cell_type": "code",
   "execution_count": null,
   "metadata": {
    "collapsed": true
   },
   "outputs": [],
   "source": [
    "['Allosaurus[rawr]', 'Utahraptor[rawr]', 'Tursiops truncatus', 'Felis catus[squee]', 'Mustela nivalis[squee]']"
   ]
  },
  {
   "cell_type": "code",
   "execution_count": null,
   "metadata": {
    "collapsed": true
   },
   "outputs": [],
   "source": []
  },
  {
   "cell_type": "code",
   "execution_count": null,
   "metadata": {
    "collapsed": true
   },
   "outputs": [],
   "source": [
    "def prime_finder(num):\n",
    "    num \n",
    "\n",
    "prime_finder(3)"
   ]
  },
  {
   "cell_type": "code",
   "execution_count": null,
   "metadata": {
    "collapsed": true
   },
   "outputs": [],
   "source": [
    "# Simple class definition\n",
    "class SonicScrewdriver:\n",
    "    WIELDER = 'The Doctor' # Class attribute\n",
    "    \n",
    "    def __init__(self, power, owner):\n",
    "        \"\"\"Overrides the dunder init\"\"\"\n",
    "        self.power = power\n",
    "        self.owner = owner\n",
    "        self.wield = wield\n",
    "        \n",
    "    def __repr__(self):    # Must return a string\n",
    "        \"\"\"Returns a useful string.\"\"\"\n",
    "        message = f'SonicScrewdriver({self.power},{self.owner})' # The concise and precise representation of an object.\n",
    "        #f'{0.__class__.__name__}({self.name)}, {self.power}, {self.owner}, {self.wield})'\n",
    "        return message\n",
    "    \n",
    "    def __str__(self):\n",
    "        return f'The Doctor\\s scepter' # The human-friendly string representation of an object.\n",
    "    \n",
    "    def \n",
    "    \n",
    "    def wield(self):\n",
    "        \"\"\"\"\"\"\n",
    "        \n"
   ]
  }
 ],
 "metadata": {
  "kernelspec": {
   "display_name": "Python 3",
   "language": "python",
   "name": "python3"
  },
  "language_info": {
   "codemirror_mode": {
    "name": "ipython",
    "version": 3
   },
   "file_extension": ".py",
   "mimetype": "text/x-python",
   "name": "python",
   "nbconvert_exporter": "python",
   "pygments_lexer": "ipython3",
   "version": "3.6.0"
  }
 },
 "nbformat": 4,
 "nbformat_minor": 2
}
