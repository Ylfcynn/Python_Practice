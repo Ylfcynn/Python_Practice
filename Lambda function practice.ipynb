{
 "cells": [
  {
   "cell_type": "code",
   "execution_count": null,
   "metadata": {
    "collapsed": true
   },
   "outputs": [],
   "source": [
    "[42, '1066', 'forty two', 'idiom', 'shrubbery', []]"
   ]
  },
  {
   "cell_type": "code",
   "execution_count": null,
   "metadata": {
    "collapsed": true
   },
   "outputs": [],
   "source": [
    "['Allosaurus[rawr]', 'Utahraptor[rawr]', 'Tursiops truncatus', 'Felis catus[squee]', 'Mustela nivalis[squee]']"
   ]
  },
  {
   "cell_type": "code",
   "execution_count": null,
   "metadata": {
    "collapsed": true
   },
   "outputs": [],
   "source": []
  },
  {
   "cell_type": "code",
   "execution_count": null,
   "metadata": {
    "collapsed": true
   },
   "outputs": [],
   "source": [
    "def prime_finder(num):\n",
    "    num \n",
    "\n",
    "prime_finder(3)"
   ]
  },
  {
   "cell_type": "code",
   "execution_count": null,
   "metadata": {
    "collapsed": true
   },
   "outputs": [],
   "source": [
    "# Simple class definition\n",
    "class SonicScrewdriver:\n",
    "    WIELDER = 'The Doctor' # Class attribute\n",
    "    \n",
    "    def __init__(self, power, owner):\n",
    "        \"\"\"Overrides the dunder init\"\"\"\n",
    "        self.power = power\n",
    "        self.owner = owner\n",
    "        self.wield = wield\n",
    "        \n",
    "    def __repr__(self):    # Must return a string\n",
    "        \"\"\"Returns a useful string.\"\"\"\n",
    "        message = f'SonicScrewdriver({self.power},{self.owner})' # The concise and precise representation of an object.\n",
    "        #f'{0.__class__.__name__}({self.name)}, {self.power}, {self.owner}, {self.wield})'\n",
    "        return message\n",
    "    \n",
    "    def __str__(self):\n",
    "        return f'The Doctor\\s scepter' # The human-friendly string representation of an object.\n",
    "    \n",
    "    def \n",
    "    \n",
    "    def wield(self):\n",
    "        \"\"\"\"\"\"\n",
    "        \n"
   ]
  },
  {
   "cell_type": "code",
   "execution_count": null,
   "metadata": {
    "collapsed": true
   },
   "outputs": [],
   "source": []
  },
  {
   "cell_type": "code",
   "execution_count": null,
   "metadata": {
    "collapsed": true
   },
   "outputs": [],
   "source": []
  },
  {
   "cell_type": "code",
   "execution_count": 7,
   "metadata": {},
   "outputs": [
    {
     "ename": "TypeError",
     "evalue": "validate() missing 1 required positional argument: 'account_number'",
     "output_type": "error",
     "traceback": [
      "\u001b[0;31m---------------------------------------------------------------------------\u001b[0m",
      "\u001b[0;31mTypeError\u001b[0m                                 Traceback (most recent call last)",
      "\u001b[0;32m<ipython-input-7-3e3e8f8f5298>\u001b[0m in \u001b[0;36m<module>\u001b[0;34m()\u001b[0m\n\u001b[1;32m    117\u001b[0m \u001b[0maccount_number_2\u001b[0m \u001b[0;34m=\u001b[0m \u001b[0;34m[\u001b[0m\u001b[0;36m6\u001b[0m\u001b[0;34m,\u001b[0m \u001b[0;36m5\u001b[0m\u001b[0;34m,\u001b[0m \u001b[0;36m1\u001b[0m\u001b[0;34m,\u001b[0m \u001b[0;36m6\u001b[0m\u001b[0;34m,\u001b[0m \u001b[0;36m4\u001b[0m\u001b[0;34m,\u001b[0m \u001b[0;36m3\u001b[0m\u001b[0;34m,\u001b[0m \u001b[0;36m7\u001b[0m\u001b[0;34m,\u001b[0m \u001b[0;36m5\u001b[0m\u001b[0;34m,\u001b[0m \u001b[0;36m1\u001b[0m\u001b[0;34m,\u001b[0m \u001b[0;36m6\u001b[0m\u001b[0;34m,\u001b[0m \u001b[0;36m4\u001b[0m\u001b[0;34m,\u001b[0m \u001b[0;36m9\u001b[0m\u001b[0;34m,\u001b[0m \u001b[0;36m3\u001b[0m\u001b[0;34m,\u001b[0m \u001b[0;36m8\u001b[0m\u001b[0;34m,\u001b[0m \u001b[0;36m5\u001b[0m\u001b[0;34m,\u001b[0m \u001b[0;36m4\u001b[0m\u001b[0;34m]\u001b[0m\u001b[0;34m\u001b[0m\u001b[0m\n\u001b[1;32m    118\u001b[0m \u001b[0;34m\u001b[0m\u001b[0m\n\u001b[0;32m--> 119\u001b[0;31m \u001b[0mvalidate\u001b[0m\u001b[0;34m(\u001b[0m\u001b[0;34m)\u001b[0m\u001b[0;34m\u001b[0m\u001b[0m\n\u001b[0m",
      "\u001b[0;31mTypeError\u001b[0m: validate() missing 1 required positional argument: 'account_number'"
     ]
    }
   ],
   "source": [
    "def slicer(account_number: int) -> str:       # Is this a string?\n",
    "    \"\"\"\n",
    "    \n",
    "    :param account_number: \n",
    "    :return: \n",
    "    \"\"\"\n",
    "    check_digit = str(account_number.pop())\n",
    "    return check_digit\n",
    "\n",
    "\n",
    "def reverser(account_number):\n",
    "    \"\"\"\n",
    "    \n",
    "    :param check_digit: \n",
    "    :return: \n",
    "    \"\"\"\n",
    "    srebmun = account_number[::-1]\n",
    "    return srebmun\n",
    "\n",
    "\n",
    "def doubler(srebmun: str):\n",
    "    \"\"\"\n",
    "    \n",
    "    :param srebmun: \n",
    "    :return: \n",
    "    \"\"\"\n",
    "    plastic_fantastic = list()\n",
    "\n",
    "    for n in range(len(srebmun)):\n",
    "        elem = srebmun[n]\n",
    "        if n % 2 == 0:\n",
    "            elemite = elem * 2\n",
    "        else:\n",
    "            elemite = elem\n",
    "        plastic_fantastic.append(elemite)\n",
    "\n",
    "    return plastic_fantastic\n",
    "\n",
    "\n",
    "def deninerizer(plastic_fantastic):\n",
    "    \"\"\"\n",
    "    \n",
    "    :param plastic_fantastic: \n",
    "    :return: \n",
    "    \"\"\"\n",
    "    plastic_bombastic = list()\n",
    "\n",
    "    for n in range(len(plastic_fantastic)):\n",
    "        num = plastic_fantastic[n]\n",
    "        if num > 9:\n",
    "            plastic_bombastic.append(num - 9)\n",
    "        else:\n",
    "            plastic_bombastic.append(num)\n",
    "\n",
    "    return plastic_bombastic\n",
    "\n",
    "\n",
    "def combiner(plastic_bombastic:list) -> int:    # Reduction op\n",
    "    \"\"\"\n",
    "    \n",
    "    :param plastic_bombastic: \n",
    "    :return: \n",
    "    \"\"\"\n",
    "    big_num = str(sum(plastic_bombastic))\n",
    "    return big_num\n",
    "\n",
    "\n",
    "def seconde(plastic_bombastic: list) -> str:\n",
    "    \"\"\"\n",
    "    \n",
    "    :param big_num: \n",
    "    :return: \n",
    "    \"\"\"\n",
    "    digi_two = str(sum(plastic_bombastic))[1]\n",
    "    return digi_two\n",
    "\n",
    "\n",
    "def comparator(digi_two: int, check_digit:int) -> str:\n",
    "    \"\"\"\n",
    "    \n",
    "    :param account_number: \n",
    "    :return: \n",
    "    \"\"\"\n",
    "    suffix = 'valid'    # So, so, so, dry. Dessicated in fact.\n",
    "\n",
    "    if digi_two == check_digit:\n",
    "        result = f'{suffix}!'\n",
    "    else:\n",
    "        result = f'In{suffix}!'\n",
    "\n",
    "    return result\n",
    "\n",
    "\n",
    "def validate(account_number: list) -> None:\n",
    "    \"\"\"\n",
    "    \n",
    "    :param account_number: \n",
    "    :return: \n",
    "    \"\"\"\n",
    "    check_digit = slicer(account_number)\n",
    "    print(f'Check digit: {check_digit}')\n",
    "\n",
    "    srebmun = reverser(account_number)\n",
    "\n",
    "    plastic_fantastic = doubler(srebmun)\n",
    "\n",
    "    plastic_bombastic = deninerizer(plastic_fantastic)\n",
    "\n",
    "    big_num = combiner(plastic_bombastic)\n",
    "\n",
    "    digi_two = seconde(big_num)\n",
    "\n",
    "    comparator(digi_two, check_digit)\n",
    "\n",
    "\n",
    "account_number_1 = [4, 5, 5, 6, 7, 3, 7, 5, 8, 6, 8, 9, 9, 8, 5, 5]\n",
    "account_number_2 = [6, 5, 1, 6, 4, 3, 7, 5, 1, 6, 4, 9, 3, 8, 5, 4]\n",
    "\n",
    "validate()\n"
   ]
  },
  {
   "cell_type": "code",
   "execution_count": null,
   "metadata": {
    "collapsed": true
   },
   "outputs": [],
   "source": [
    "from itertools import groupby\n",
    "\n",
    "inventory = [\n",
    "             ['Artifacts', 'Ark of the Covenant', '42'],\n",
    "             ['Artifacts', 'Roswell Debris', '-42'],\n",
    "             ['Artifacts','Crystal Skull', '0'],\n",
    "             ['Pirates', 'Bluebeard', '150'],\n",
    "\n",
    "def helper(item: list) -> list\n",
    "    return item[0]\n",
    "\n",
    "list(groupby(inventory, key=helper))\n",
    "\n"
   ]
  }
 ],
 "metadata": {
  "kernelspec": {
   "display_name": "Python 3",
   "language": "python",
   "name": "python3"
  },
  "language_info": {
   "codemirror_mode": {
    "name": "ipython",
    "version": 3
   },
   "file_extension": ".py",
   "mimetype": "text/x-python",
   "name": "python",
   "nbconvert_exporter": "python",
   "pygments_lexer": "ipython3",
   "version": "3.6.0"
  }
 },
 "nbformat": 4,
 "nbformat_minor": 2
}
