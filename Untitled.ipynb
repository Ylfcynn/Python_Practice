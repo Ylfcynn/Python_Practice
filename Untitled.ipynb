{
 "cells": [
  {
   "cell_type": "code",
   "execution_count": 14,
   "metadata": {},
   "outputs": [
    {
     "data": {
      "text/plain": [
       "False"
      ]
     },
     "execution_count": 14,
     "metadata": {},
     "output_type": "execute_result"
    }
   ],
   "source": [
    "'''\n",
    "\n",
    ">>> inflator([1,5,6,2,6,7], 500)\n",
    "False\n",
    "\n",
    ">>> inflator([1,5,6,2,6,7,20,45,20,23], 1500)\n",
    "False\n",
    "\n",
    ">>> inflator([1,5,6,2,6,7,20,45,20,23], 10000)\n",
    "True\n",
    "\n",
    ">>> inflator([1,5,6,2,6,7], 2000)\n",
    "True\n",
    "\n",
    ">>> inflator([1,5,6,2,6,7], 3000)\n",
    "False\n",
    "\n",
    "'''\n",
    "\n",
    "pulses = [1,5,6,2,6,7]\n",
    "max_psi = 3000\n",
    "\n",
    "def inflator(pulses: list, max_psi: int) -> bool:\n",
    "    charge = sum(pulses)\n",
    "    fill = charge * 42\n",
    "\n",
    "    if fill > max_psi or fill < max_psi * .5:\n",
    "        return False\n",
    "    else:\n",
    "        return True\n",
    "\n",
    "inflator(pulses, max_psi)"
   ]
  }
 ],
 "metadata": {
  "kernelspec": {
   "display_name": "Python 3",
   "language": "python",
   "name": "python3"
  },
  "language_info": {
   "codemirror_mode": {
    "name": "ipython",
    "version": 3
   },
   "file_extension": ".py",
   "mimetype": "text/x-python",
   "name": "python",
   "nbconvert_exporter": "python",
   "pygments_lexer": "ipython3",
   "version": "3.6.0"
  }
 },
 "nbformat": 4,
 "nbformat_minor": 2
}
