{
 "cells": [
  {
   "cell_type": "code",
   "execution_count": 10,
   "metadata": {
    "collapsed": false
   },
   "outputs": [
    {
     "name": "stdout",
     "output_type": "stream",
     "text": [
      "0\n"
     ]
    }
   ],
   "source": [
    "args = [1, 2, 3, 4]\n",
    "\n",
    "def something(*args):\n",
    "    result = sum(args)\n",
    "    print(result)\n",
    "\n",
    "something()"
   ]
  },
  {
   "cell_type": "code",
   "execution_count": null,
   "metadata": {
    "collapsed": true
   },
   "outputs": [],
   "source": [
    "def shrink(numbers: str) -> str:    # PEP 484\n",
    "\"\"\"\n",
    "Shrinking function.\n",
    "\"\"\"\n",
    "shrunk = sum(int(num) for num in list(numbers))\n",
    "\n",
    "if shrunk >= 10:\n",
    "    shrunk = str(shrunk)            # recursion\n",
    "    shrink(shrunk)\n",
    "    \n",
    "else:\n",
    "    return shrunk"
   ]
  },
  {
   "cell_type": "markdown",
   "metadata": {},
   "source": [
    "## RegEx Python Library Functions\n",
    "\n",
    "- re.compile\n",
    "- re.findall\n",
    "- re.finditer\n",
    "- re.match\n",
    "- re.search\n",
    "- re.split\n",
    "- re.sub\n",
    "\n",
    "\n",
    "## RegEx 'Flags'\n",
    "#### These are Modifiers\n",
    "\n",
    "- re.VERBOSE\n",
    "- re.X\n",
    "- re.IGNORECASE\n",
    "- re.I\n",
    "- re.MULTILINE\n",
    "- re.M"
   ]
  },
  {
   "cell_type": "code",
   "execution_count": 10,
   "metadata": {
    "collapsed": false
   },
   "outputs": [
    {
     "ename": "NameError",
     "evalue": "name 'pattern' is not defined",
     "output_type": "error",
     "traceback": [
      "\u001b[0;31m---------------------------------------------------------------------------\u001b[0m",
      "\u001b[0;31mNameError\u001b[0m                                 Traceback (most recent call last)",
      "\u001b[0;32m<ipython-input-10-48fccbc427fa>\u001b[0m in \u001b[0;36m<module>\u001b[0;34m()\u001b[0m\n\u001b[1;32m      6\u001b[0m \u001b[0mlimerick\u001b[0m\u001b[0;34m[\u001b[0m\u001b[0mmatch\u001b[0m\u001b[0;34m.\u001b[0m\u001b[0mstart\u001b[0m\u001b[0;34m(\u001b[0m\u001b[0;34m)\u001b[0m\u001b[0;34m:\u001b[0m\u001b[0mmatch\u001b[0m\u001b[0;34m.\u001b[0m\u001b[0mend\u001b[0m\u001b[0;34m(\u001b[0m\u001b[0;34m)\u001b[0m\u001b[0;34m]\u001b[0m\u001b[0;34m\u001b[0m\u001b[0m\n\u001b[1;32m      7\u001b[0m \u001b[0mmatch\u001b[0m\u001b[0;34m.\u001b[0m\u001b[0mgroup\u001b[0m\u001b[0;34m(\u001b[0m\u001b[0;34m)\u001b[0m\u001b[0;34m\u001b[0m\u001b[0m\n\u001b[0;32m----> 8\u001b[0;31m \u001b[0mpattern\u001b[0m\u001b[0;34m.\u001b[0m\u001b[0msearch\u001b[0m\u001b[0;34m(\u001b[0m\u001b[0mlimerick\u001b[0m\u001b[0;34m)\u001b[0m \u001b[0;31m# more concise thatn match above\u001b[0m\u001b[0;34m\u001b[0m\u001b[0m\n\u001b[0m",
      "\u001b[0;31mNameError\u001b[0m: name 'pattern' is not defined"
     ]
    }
   ],
   "source": [
    "import re\n",
    "\n",
    "limerick = 'There once was a lady named Bright, who could travel much faster than light.'\n",
    "\n",
    "match = re.search('\\w{2,}\\s', limerick)\n",
    "limerick[match.start():match.end()]\n",
    "match.group()\n",
    "\n",
    "pattern.search(limerick) # more concise than match above"
   ]
  },
  {
   "cell_type": "code",
   "execution_count": 5,
   "metadata": {
    "collapsed": false
   },
   "outputs": [
    {
     "name": "stdout",
     "output_type": "stream",
     "text": [
      "Beautiful is better than ugly\n",
      "Explicit is better than implicit\n",
      "Simple is better than complex\n"
     ]
    }
   ],
   "source": [
    "import re\n",
    "\n",
    "def scrub_numbers(num_fouled):\n",
    "    pattern = re.compile(r'\\d')\n",
    "    num_fouled = pattern.sub('', num_fouled)\n",
    "#    scrubbed = re.sub(r'\\d', '', phrase)\n",
    "    print(num_fouled)\n",
    "\n",
    "scrub_numbers('Be9autiful9 i4s be2tter th4an ug42ly')\n",
    "\n",
    "\n",
    "def gentle_clean(dashed_up):\n",
    "    pattern = re.compile(r'(\\s-)|[_-]')\n",
    "    undashed = pattern.sub(' ', dashed_up)\n",
    "    print(undashed)\n",
    "\n",
    "gentle_clean('Explicit_is-better_than -implicit')\n",
    "\n",
    "   \n",
    "def clean_data(fugly):\n",
    "    pattern = re.compile(r\"\"\"\\d   # matches all numbers #\\d|\n",
    "                             |    # 'or' token\n",
    "                             [_-] # underscores, and dashes \"\"\", re.VERBOSE)\n",
    "    unfugly = pattern.sub(' ', fugly)\n",
    "    naked_unfug = unfugly.strip()\n",
    "    naked_pretty = naked_unfug.replace('l e', 'le')\n",
    "    perfect = naked_pretty.\n",
    "    print(naked_pretty)\n",
    "\n",
    "clean_data('  42Simple-is_better_than-compl9ex   ')\n"
   ]
  },
  {
   "cell_type": "code",
   "execution_count": null,
   "metadata": {
    "collapsed": true
   },
   "outputs": [],
   "source": []
  }
 ],
 "metadata": {
  "kernelspec": {
   "display_name": "Python 3",
   "language": "python",
   "name": "python3"
  },
  "language_info": {
   "codemirror_mode": {
    "name": "ipython",
    "version": 3
   },
   "file_extension": ".py",
   "mimetype": "text/x-python",
   "name": "python",
   "nbconvert_exporter": "python",
   "pygments_lexer": "ipython3",
   "version": "3.6.0"
  }
 },
 "nbformat": 4,
 "nbformat_minor": 2
}
