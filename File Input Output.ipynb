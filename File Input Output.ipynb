{
 "cells": [
  {
   "cell_type": "code",
   "execution_count": 1,
   "metadata": {},
   "outputs": [
    {
     "ename": "TypeError",
     "evalue": "Required argument 'file' (pos 1) not found",
     "output_type": "error",
     "traceback": [
      "\u001b[0;31m---------------------------------------------------------------------------\u001b[0m",
      "\u001b[0;31mTypeError\u001b[0m                                 Traceback (most recent call last)",
      "\u001b[0;32m<ipython-input-1-6381b51fd6e4>\u001b[0m in \u001b[0;36m<module>\u001b[0;34m()\u001b[0m\n\u001b[0;32m----> 1\u001b[0;31m \u001b[0mopen\u001b[0m\u001b[0;34m(\u001b[0m\u001b[0;34m)\u001b[0m \u001b[0;31m# First class function\u001b[0m\u001b[0;34m\u001b[0m\u001b[0m\n\u001b[0m",
      "\u001b[0;31mTypeError\u001b[0m: Required argument 'file' (pos 1) not found"
     ]
    }
   ],
   "source": [
    "open() # First class function"
   ]
  },
  {
   "cell_type": "code",
   "execution_count": 11,
   "metadata": {},
   "outputs": [
    {
     "name": "stdout",
     "output_type": "stream",
     "text": [
      "geneology_of_morals.txt            marketing_ipsum.txt\r\n",
      "gettysburg_address.txt             odyssey.txt\r\n",
      "iliad.txt                          po.txt\r\n",
      "jack_and_jill.txt                  the_room_with_the_little_door.txt\r\n",
      "\u001b[34mlicenses\u001b[m\u001b[m/\r\n"
     ]
    }
   ],
   "source": [
    "ls ~/Git/PythonFullStack/1_Python/3_Applied_Python/labs/ari/books/"
   ]
  },
  {
   "cell_type": "code",
   "execution_count": 16,
   "metadata": {
    "collapsed": true
   },
   "outputs": [],
   "source": [
    "path = '/Users/ylf/Git/PythonFullStack/1_Python/3_Applied_Python/labs/ari/books/jack_and_jill.txt'"
   ]
  },
  {
   "cell_type": "code",
   "execution_count": 17,
   "metadata": {},
   "outputs": [
    {
     "data": {
      "text/plain": [
       "<_io.TextIOWrapper name='/Users/ylf/Git/PythonFullStack/1_Python/3_Applied_Python/labs/ari/books/jack_and_jill.txt' mode='r' encoding='UTF-8'>"
      ]
     },
     "execution_count": 17,
     "metadata": {},
     "output_type": "execute_result"
    }
   ],
   "source": [
    "open(path)"
   ]
  },
  {
   "cell_type": "code",
   "execution_count": 18,
   "metadata": {
    "collapsed": true
   },
   "outputs": [],
   "source": [
    "file = open(path, 'r')"
   ]
  },
  {
   "cell_type": "code",
   "execution_count": 19,
   "metadata": {
    "collapsed": true
   },
   "outputs": [],
   "source": [
    "text = file.read()"
   ]
  },
  {
   "cell_type": "code",
   "execution_count": 21,
   "metadata": {},
   "outputs": [
    {
     "name": "stdout",
     "output_type": "stream",
     "text": [
      "Jack and Jill went up the hill\n",
      "To fetch a pail of water.\n",
      "Jack fell down and broke his crown,\n",
      "And Jill came tumbling after.\n",
      "\n",
      "Up Jack got, and home did trot,\n",
      "As fast as he could caper,\n",
      "To old Dame Dob, who patched his nob\n",
      "With vinegar and brown paper.\n",
      "\n"
     ]
    }
   ],
   "source": [
    "print(text)"
   ]
  },
  {
   "cell_type": "code",
   "execution_count": 20,
   "metadata": {},
   "outputs": [
    {
     "data": {
      "text/plain": [
       "['Jack and Jill went up the hill',\n",
       " 'To fetch a pail of water.',\n",
       " 'Jack fell down and broke his crown,',\n",
       " 'And Jill came tumbling after.',\n",
       " '',\n",
       " 'Up Jack got, and home did trot,',\n",
       " 'As fast as he could caper,',\n",
       " 'To old Dame Dob, who patched his nob',\n",
       " 'With vinegar and brown paper.',\n",
       " '']"
      ]
     },
     "execution_count": 20,
     "metadata": {},
     "output_type": "execute_result"
    }
   ],
   "source": [
    "text.split('\\n')"
   ]
  },
  {
   "cell_type": "code",
   "execution_count": 3,
   "metadata": {},
   "outputs": [
    {
     "ename": "NameError",
     "evalue": "name 'path' is not defined",
     "output_type": "error",
     "traceback": [
      "\u001b[0;31m---------------------------------------------------------------------------\u001b[0m",
      "\u001b[0;31mNameError\u001b[0m                                 Traceback (most recent call last)",
      "\u001b[0;32m<ipython-input-3-1795915c2d04>\u001b[0m in \u001b[0;36m<module>\u001b[0;34m()\u001b[0m\n\u001b[0;32m----> 1\u001b[0;31m \u001b[0;32mwith\u001b[0m \u001b[0mopen\u001b[0m\u001b[0;34m(\u001b[0m\u001b[0mpath\u001b[0m\u001b[0;34m,\u001b[0m \u001b[0;34m'r'\u001b[0m\u001b[0;34m)\u001b[0m \u001b[0;32mas\u001b[0m \u001b[0mfile\u001b[0m\u001b[0;34m:\u001b[0m\u001b[0;34m\u001b[0m\u001b[0m\n\u001b[0m\u001b[1;32m      2\u001b[0m     \u001b[0mtext\u001b[0m \u001b[0;34m=\u001b[0m \u001b[0mfile\u001b[0m\u001b[0;34m.\u001b[0m\u001b[0mread\u001b[0m\u001b[0;34m(\u001b[0m\u001b[0;34m)\u001b[0m\u001b[0;34m\u001b[0m\u001b[0m\n",
      "\u001b[0;31mNameError\u001b[0m: name 'path' is not defined"
     ]
    }
   ],
   "source": [
    "with open(path, 'r') as file:\n",
    "    text = read()"
   ]
  },
  {
   "cell_type": "code",
   "execution_count": 2,
   "metadata": {
    "collapsed": true
   },
   "outputs": [],
   "source": [
    "def get_data(path):               # 'file handler'\n",
    "    \"\"\"\n",
    "    A 'boilerplate' construction, returns file contents as a string.\n",
    "    \"\"\"\n",
    "    with open(path, 'r') as file:\n",
    "        text = file.read()\n",
    "        return text"
   ]
  },
  {
   "cell_type": "code",
   "execution_count": null,
   "metadata": {
    "collapsed": true
   },
   "outputs": [],
   "source": [
    "def count_em_up():\n",
    "    word_counts = dict()    # initialize empty dict\n",
    "    clean_phrase = phrase.lower()\n",
    "    split_ups = clean_phrase.split()    # list or words\n",
    "\n",
    "for word in split_ups:\n",
    "    word_counts[word] = word_counts.get(word, 0) + 1\n",
    "\n",
    "return word_counts\n"
   ]
  },
  {
   "cell_type": "code",
   "execution_count": null,
   "metadata": {
    "collapsed": true
   },
   "outputs": [],
   "source": [
    "from collections import Counter    # \"High performance container types\"\n",
    "\n",
    "Counter(phrase.split())"
   ]
  },
  {
   "cell_type": "code",
   "execution_count": null,
   "metadata": {
    "collapsed": true
   },
   "outputs": [],
   "source": [
    "the_count = defaultdict(int)\n",
    "for word in phrase.split():\n",
    "    the_count[word].append(word)"
   ]
  },
  {
   "cell_type": "code",
   "execution_count": 14,
   "metadata": {},
   "outputs": [
    {
     "ename": "SyntaxError",
     "evalue": "invalid syntax (<ipython-input-14-76690a0828ea>, line 15)",
     "output_type": "error",
     "traceback": [
      "\u001b[0;36m  File \u001b[0;32m\"<ipython-input-14-76690a0828ea>\"\u001b[0;36m, line \u001b[0;32m15\u001b[0m\n\u001b[0;31m    pattern = re.compile(r'[!\\\"\\#$%&'()*+,\\-./:;<=>?@\\[\\\\\\]^_`{|}~]')\u001b[0m\n\u001b[0m                                         ^\u001b[0m\n\u001b[0;31mSyntaxError\u001b[0m\u001b[0;31m:\u001b[0m invalid syntax\n"
     ]
    }
   ],
   "source": [
    "\n",
    "import os\n",
    "import re\n",
    "\n",
    "\n",
    "CODEX_ROOT = '/Users/ylf/Git/Python_Practice/ari/codices/'             # Global variables are all in caps!\n",
    "\n",
    "\n",
    "def ari_proc(codex: str) -> str:\n",
    "    \"\"\"\n",
    "    \n",
    "    \"\"\"\n",
    "    whitey_b_gone = codex.replace(' ', '')\n",
    "    文章 = re.split('[.|?|!]', whitey_b_gone)\n",
    "    pattern = re.compile(r'[!\\\"\\#$%&'()*+,\\-./:;<=>?@\\[\\\\\\]^_`{|}~]')\n",
    "    no_punc = pattern.sub(' ', codex)\n",
    "    wee_no_punc = no_punc.lower()\n",
    "    leixis = split(wee_no_punc)\n",
    "    mega_string = ''.lexis.join()\n",
    "    score =(((len(mega_string) / len(leixis)) * 4.17) + .5) + ((len(leixis) / len(文章)) - 21.43)\n",
    "    \n",
    "    print('The A.R.I for the selected text is: {score}')\n",
    "\n",
    "\n",
    "def menu():\n",
    "    \"\"\"\n",
    "    This is a programmatic alternative to hard coding options into a menu and is much more performant.\n",
    "    Thanks Kieran!\n",
    "\n",
    "    \"\"\"\n",
    "    \n",
    "    print(\"\"\"\n",
    "    Welcome to D.A.R.I.U.S. (D-Force Automated Readability Index UtilitieS).\n",
    "    Please make a selection from the menu below.\n",
    "    \"\"\")\n",
    "    \n",
    "    paths = os.listdir(CODEX_ROOT)                                                # Creates a list of directories\n",
    "    codex_paths = (path for path in paths if '.txt' in path)                      # Filters out all but ,.txt files\n",
    "    \n",
    "#     pretty_opts = '①②③④'\n",
    "#     load_opt, quit_opts = '🄻', '🅀'\n",
    "    \n",
    "    menu_opts = {str(num): path for num, path in enumerate(codex_paths, start=1)}      # Menu display generator\n",
    "    menu_length = len(menu_opts)\n",
    "    menu_opts.update({str(menu_length+1):'Load file', str(menu_length+2): 'Quit'})          # Adds options to load file and quit\n",
    "    print(list(menu_opts))\n",
    "    for key, value in menu_opts.items():                                          # Prints menu\n",
    "        print(key, '⟹ ', value)\n",
    "    \n",
    "    selection = input('>>>>> ')\n",
    "    menu_assoc = menu_opts[selection]\n",
    "    \n",
    "    full_path = CODEX_ROOT + menu_assoc\n",
    "    \n",
    "    if int(selection) in range(len(menu_opts)-1):\n",
    "        with open(full_path, 'r') as file:\n",
    "            codex = file.read()\n",
    "            ari_proc(codex)\n",
    "    \n",
    "    elif int(selection) == menu_length+1:\n",
    "        try:\n",
    "            path = input('Path to codex to analyze: ')    # Ex. '/Users/ylf/Git/Python_Practice/Bēowulf.txt'\n",
    "            with open(path, 'r') as file:\n",
    "                codex = file.read()\n",
    "                ari_proc(codex)\n",
    "        except FileNotFoundError:\n",
    "            print('No such file or directory.')\n",
    "            menu()\n",
    "            \n",
    "    elif int(selection) == menu_length+2:\n",
    "        print('Buh bye.')\n",
    "        \n",
    "    else:\n",
    "        print('Invalid. Please select an option from the menu.')\n",
    "        menu()\n",
    "\n",
    "    \n",
    "menu()\n",
    "    \n",
    "    \n",
    "    "
   ]
  },
  {
   "cell_type": "code",
   "execution_count": 16,
   "metadata": {},
   "outputs": [
    {
     "data": {
      "text/plain": [
       "environ({'TERM_PROGRAM': 'Apple_Terminal', 'SHELL': '/bin/bash', 'TERM': 'xterm-color', 'TMPDIR': '/var/folders/ky/wy7m__3118n76jgb37fzzmx80000gn/T/', 'Apple_PubSub_Socket_Render': '/private/tmp/com.apple.launchd.8d06Hf9EuK/Render', 'TERM_PROGRAM_VERSION': '388.1', 'TERM_SESSION_ID': '6861DF92-26DE-4911-8D4B-DB3AE320BEBE', 'USER': 'ylf', 'SSH_AUTH_SOCK': '/private/tmp/com.apple.launchd.NSoKszJj7Z/Listeners', '__CF_USER_TEXT_ENCODING': '0x1F5:0x0:0x0', 'PATH': '/anaconda/bin:/anaconda/bin:/Library/Frameworks/Python.framework/Versions/3.6/bin:/usr/local/bin:/usr/bin:/bin:/usr/sbin:/sbin', 'PWD': '/Users/ylf', 'LANG': 'en_US.UTF-8', 'XPC_FLAGS': '0x0', 'XPC_SERVICE_NAME': '0', 'SHLVL': '1', 'HOME': '/Users/ylf', 'LOGNAME': 'ylf', '_': '/anaconda/bin/jupyter', 'JPY_PARENT_PID': '9386', 'CLICOLOR': '1', 'PAGER': 'cat', 'GIT_PAGER': 'cat', 'MPLBACKEND': 'module://ipykernel.pylab.backend_inline'})"
      ]
     },
     "execution_count": 16,
     "metadata": {},
     "output_type": "execute_result"
    }
   ],
   "source": [
    "os.environ"
   ]
  },
  {
   "cell_type": "code",
   "execution_count": 17,
   "metadata": {},
   "outputs": [
    {
     "data": {
      "text/plain": [
       "'home/user/kieran/desktop'"
      ]
     },
     "execution_count": 17,
     "metadata": {},
     "output_type": "execute_result"
    }
   ],
   "source": [
    "os.path.join('home', 'user', 'kieran', 'desktop')"
   ]
  },
  {
   "cell_type": "code",
   "execution_count": 1,
   "metadata": {},
   "outputs": [
    {
     "name": "stdout",
     "output_type": "stream",
     "text": [
      "🄻🅀\n"
     ]
    }
   ],
   "source": [
    "print('🄻🅀'.casefold())"
   ]
  },
  {
   "cell_type": "code",
   "execution_count": null,
   "metadata": {
    "collapsed": true
   },
   "outputs": [],
   "source": []
  }
 ],
 "metadata": {
  "kernelspec": {
   "display_name": "Python 3",
   "language": "python",
   "name": "python3"
  },
  "language_info": {
   "codemirror_mode": {
    "name": "ipython",
    "version": 3
   },
   "file_extension": ".py",
   "mimetype": "text/x-python",
   "name": "python",
   "nbconvert_exporter": "python",
   "pygments_lexer": "ipython3",
   "version": "3.6.0"
  }
 },
 "nbformat": 4,
 "nbformat_minor": 2
}
